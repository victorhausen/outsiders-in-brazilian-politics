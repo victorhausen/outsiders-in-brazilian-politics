{
 "cells": [
  {
   "cell_type": "code",
   "execution_count": 2,
   "metadata": {},
   "outputs": [],
   "source": [
    "import os\n",
    "import pandas as pd\n",
    "import re\n",
    "import requests\n",
    "import zipfile\n",
    "\n",
    "from bs4 import BeautifulSoup"
   ]
  },
  {
   "cell_type": "code",
   "execution_count": 3,
   "metadata": {},
   "outputs": [],
   "source": [
    "base_url = 'http://agencia.tse.jus.br/estatistica/sead/odsele/consulta_cand/consulta_cand_{}.zip'\n",
    "year_range = range(1994, 2020, 2)"
   ]
  },
  {
   "cell_type": "markdown",
   "metadata": {},
   "source": [
    "# Download .zips"
   ]
  },
  {
   "cell_type": "code",
   "execution_count": 4,
   "metadata": {},
   "outputs": [
    {
     "name": "stdout",
     "output_type": "stream",
     "text": [
      "Downloading:   1994\n",
      "Downloading:   1996\n",
      "Downloading:   1998\n",
      "Downloading:   2000\n",
      "Downloading:   2002\n",
      "Downloading:   2004\n",
      "Downloading:   2006\n",
      "Downloading:   2008\n",
      "Downloading:   2010\n",
      "Downloading:   2012\n",
      "Downloading:   2014\n",
      "Downloading:   2016\n",
      "Downloading:   2018\n"
     ]
    }
   ],
   "source": [
    "# download\n",
    "for i in year_range:\n",
    "    print(\"Downloading:   {}\".format(i))\n",
    "    # make the request\n",
    "    rqst = requests.get(base_url.format(i))\n",
    "    \n",
    "    # save it to a file\n",
    "    file = open('../data/consulta_cand/consulta_cand_{}.zip'.format(i), 'wb+')\n",
    "    file.write(rqst.content)\n",
    "    file.close()"
   ]
  },
  {
   "cell_type": "code",
   "execution_count": 7,
   "metadata": {},
   "outputs": [
    {
     "name": "stdout",
     "output_type": "stream",
     "text": [
      "Extracting: consulta_cand_2018.zip\n",
      "Extracting: consulta_cand_2000.zip\n",
      "Extracting: consulta_cand_2016.zip\n",
      "Extracting: consulta_cand_2010.zip\n",
      "Extracting: consulta_cand_2004.zip\n",
      "Extracting: consulta_cand_2012.zip\n",
      "Extracting: consulta_cand_1998.zip\n",
      "Extracting: consulta_cand_2008.zip\n",
      "Extracting: consulta_cand_2006.zip\n",
      "Extracting: consulta_cand_1996.zip\n",
      "Extracting: consulta_cand_2014.zip\n",
      "Extracting: consulta_cand_2002.zip\n",
      "Extracting: consulta_cand_1994.zip\n"
     ]
    }
   ],
   "source": [
    "# get .zips\n",
    "consulta_cand_files = os.listdir('../data/consulta_cand/')\n",
    "consulta_cand_zips = [e for e in consulta_cand_files if '.zip' in e]\n",
    "\n",
    "for i in range(len(consulta_cand_zips)):\n",
    "    print('Extracting:', consulta_cand_zips[i])\n",
    "    year = re.search('\\d{4}', consulta_cand_zips[i]).group(0)\n",
    "    with zipfile.ZipFile('../data/consulta_cand/{}'.format(consulta_cand_zips[i]), 'r') as zip_ref:\n",
    "        # extract\n",
    "        zip_ref.extractall('../data/consulta_cand/')\n",
    "\n",
    "        # get leiama file\n",
    "        consulta_cand_files = os.listdir('../data/consulta_cand/')\n",
    "        read_me_path = [e for e in consulta_cand_files if ('.pdf' in e.lower()) & ('consulta_cand' not in e)][0]\n",
    "\n",
    "        # rename it\n",
    "        os.rename(\n",
    "            os.sep.join([os.path.abspath('..'), 'data', 'consulta_cand', read_me_path]),\n",
    "            os.sep.join([os.path.abspath('..'), 'data', 'consulta_cand', 'consulta_cand_{}_readme.pdf'.format(year)]\n",
    "            )\n",
    "        )"
   ]
  },
  {
   "cell_type": "code",
   "execution_count": null,
   "metadata": {},
   "outputs": [],
   "source": []
  }
 ],
 "metadata": {
  "kernelspec": {
   "display_name": "Python 3",
   "language": "python",
   "name": "python3"
  },
  "language_info": {
   "codemirror_mode": {
    "name": "ipython",
    "version": 3
   },
   "file_extension": ".py",
   "mimetype": "text/x-python",
   "name": "python",
   "nbconvert_exporter": "python",
   "pygments_lexer": "ipython3",
   "version": "3.6.9"
  }
 },
 "nbformat": 4,
 "nbformat_minor": 2
}
